{
 "cells": [
  {
   "cell_type": "markdown",
   "id": "e9e71538",
   "metadata": {},
   "source": [
    "# Setup"
   ]
  },
  {
   "cell_type": "markdown",
   "id": "7eac3132",
   "metadata": {},
   "source": [
    "# 1. Sign up as a developer in 4square Places API"
   ]
  },
  {
   "cell_type": "markdown",
   "id": "3f8045b2",
   "metadata": {},
   "source": [
    "[Docs](https://foursquare.com/developers/home)"
   ]
  },
  {
   "cell_type": "markdown",
   "id": "4cb5ca78",
   "metadata": {},
   "source": [
    "# 2. Create a project"
   ]
  },
  {
   "cell_type": "code",
   "execution_count": null,
   "id": "c86677ec",
   "metadata": {},
   "outputs": [],
   "source": [
    "# no code needed\n"
   ]
  },
  {
   "cell_type": "markdown",
   "id": "bdf43ce0",
   "metadata": {},
   "source": [
    "# 3. Get the token from the project"
   ]
  },
  {
   "cell_type": "code",
   "execution_count": null,
   "id": "f578f4fa",
   "metadata": {},
   "outputs": [],
   "source": [
    "# no code needed"
   ]
  },
  {
   "cell_type": "markdown",
   "id": "df341f75",
   "metadata": {},
   "source": [
    "# 4. Hide the token using getpass library "
   ]
  },
  {
   "cell_type": "code",
   "execution_count": 11,
   "id": "7d086427",
   "metadata": {},
   "outputs": [
    {
     "name": "stdout",
     "output_type": "stream",
     "text": [
      "Token length: 48\n"
     ]
    }
   ],
   "source": [
    "# no code needed\n",
    "import getpass\n",
    "\n",
    "# Prompt the user, but don’t show what they type\n",
    "token = getpass.getpass(\"Enter your API token: \")\n",
    "\n",
    "# Now you can safely use `token` without it having appeared on-screen\n",
    "print(\"Token length:\", len(token))\n"
   ]
  },
  {
   "cell_type": "markdown",
   "id": "df041b10",
   "metadata": {},
   "source": [
    "For projects, you'll use `.env`"
   ]
  },
  {
   "cell_type": "code",
   "execution_count": 19,
   "id": "7aae6edd",
   "metadata": {},
   "outputs": [
    {
     "name": "stdout",
     "output_type": "stream",
     "text": [
      "200\n",
      "{\"results\":[{\"fsq_id\":\"5038e3dce4b07299a53af461\",\"categories\":[{\"id\":13035,\"name\":\"Coffee Shop\",\"short_name\":\"Coffee Shop\",\"plural_name\":\"Coffee Shops\",\"icon\":{\"prefix\":\"https://ss3.4sqi.net/img/categories_v2/food/coffeeshop_\",\"suffix\":\".png\"}}],\"chains\":[],\"closed_bucket\":\"Unsure\",\"distance\":279,\"geocodes\":{\"main\":{\"latitude\":-34.788238,\"longitude\":-58.371745}},\"link\":\"/v3/places/5038e3dce4b07299a53af461\",\"location\":{\"country\":\"AR\",\"cross_street\":\"\",\"formatted_address\":\"\"},\"name\":\"Ilsuá del Cabezuá\",\"related_places\":{},\"timezone\":\"America/Argentina/Buenos_Aires\"}],\"context\":{\"geo_bounds\":{\"circle\":{\"center\":{\"latitude\":-34.7862,\"longitude\":-58.3701},\"radius\":1000}}}}\n"
     ]
    }
   ],
   "source": [
    "import requests\n",
    "\n",
    "url = \"https://api.foursquare.com/v3/places/search?query=coffee&radius=1000&limit=20\"\n",
    "\n",
    "headers = {\n",
    "    \"Accept\": \"application/json\",\n",
    "    \"Authorization\": token\n",
    "}\n",
    "\n",
    "response = requests.get(url, headers=headers)\n",
    "\n",
    "print(response.status_code)\n",
    "print(response.text)\n",
    "\n"
   ]
  },
  {
   "cell_type": "markdown",
   "id": "60a54335",
   "metadata": {},
   "source": [
    "⚠️ DO NOT push your token"
   ]
  }
 ],
 "metadata": {
  "kernelspec": {
   "display_name": "Python 3",
   "language": "python",
   "name": "python3"
  },
  "language_info": {
   "codemirror_mode": {
    "name": "ipython",
    "version": 3
   },
   "file_extension": ".py",
   "mimetype": "text/x-python",
   "name": "python",
   "nbconvert_exporter": "python",
   "pygments_lexer": "ipython3",
   "version": "3.13.3"
  },
  "toc": {
   "base_numbering": 1,
   "nav_menu": {},
   "number_sections": true,
   "sideBar": true,
   "skip_h1_title": false,
   "title_cell": "Table of Contents",
   "title_sidebar": "Contents",
   "toc_cell": false,
   "toc_position": {},
   "toc_section_display": true,
   "toc_window_display": true
  }
 },
 "nbformat": 4,
 "nbformat_minor": 5
}
