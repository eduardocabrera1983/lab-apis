{
 "cells": [
  {
   "cell_type": "markdown",
   "id": "e9e71538",
   "metadata": {},
   "source": [
    "# Setup"
   ]
  },
  {
   "cell_type": "markdown",
   "id": "7eac3132",
   "metadata": {},
   "source": [
    "# 1. Sign up as a developer in 4square Places API"
   ]
  },
  {
   "cell_type": "markdown",
   "id": "3f8045b2",
   "metadata": {},
   "source": [
    "[Docs](https://foursquare.com/developers/home)"
   ]
  },
  {
   "cell_type": "markdown",
   "id": "4cb5ca78",
   "metadata": {},
   "source": [
    "# 2. Create a project"
   ]
  },
  {
   "cell_type": "code",
   "execution_count": 1,
   "id": "c86677ec",
   "metadata": {},
   "outputs": [],
   "source": [
    "# no code needed\n"
   ]
  },
  {
   "cell_type": "markdown",
   "id": "bdf43ce0",
   "metadata": {},
   "source": [
    "# 3. Get the token from the project"
   ]
  },
  {
   "cell_type": "code",
   "execution_count": 2,
   "id": "f578f4fa",
   "metadata": {},
   "outputs": [],
   "source": [
    "# no code needed"
   ]
  },
  {
   "cell_type": "markdown",
   "id": "df341f75",
   "metadata": {},
   "source": [
    "# 4. Hide the token using getpass library "
   ]
  },
  {
   "cell_type": "code",
   "execution_count": 5,
   "id": "7d086427",
   "metadata": {},
   "outputs": [
    {
     "name": "stdout",
     "output_type": "stream",
     "text": [
      "Token length: 48\n"
     ]
    }
   ],
   "source": [
    "# no code needed\n",
    "import getpass\n",
    "\n",
    "# Prompt the user, but don’t show what they type\n",
    "token = getpass.getpass(\"Enter your API token: \")\n",
    "\n",
    "# Now you can safely use `token` without it having appeared on-screen\n",
    "print(\"Token length:\", len(token))\n"
   ]
  },
  {
   "cell_type": "markdown",
   "id": "df041b10",
   "metadata": {},
   "source": [
    "For projects, you'll use `.env`"
   ]
  },
  {
   "cell_type": "code",
   "execution_count": 4,
   "id": "7aae6edd",
   "metadata": {},
   "outputs": [
    {
     "name": "stdout",
     "output_type": "stream",
     "text": [
      "200\n",
      "{\"results\":[{\"fsq_id\":\"5300c685498ea24a97eca220\",\"categories\":[{\"id\":13000,\"name\":\"Dining and Drinking\",\"short_name\":\"Dining and Drinking\",\"plural_name\":\"Dining and Drinking\",\"icon\":{\"prefix\":\"https://ss3.4sqi.net/img/categories_v2/food/default_\",\"suffix\":\".png\"}}],\"chains\":[],\"closed_bucket\":\"VeryLikelyOpen\",\"distance\":131,\"geocodes\":{\"main\":{\"latitude\":52.36314,\"longitude\":4.889736},\"roof\":{\"latitude\":52.36314,\"longitude\":4.889736}},\"link\":\"/v3/places/5300c685498ea24a97eca220\",\"location\":{\"address\":\"Kerkstraat 176\",\"country\":\"NL\",\"cross_street\":\"\",\"formatted_address\":\"Kerkstraat 176, 1017 GT Amsterdam\",\"locality\":\"Amsterdam\",\"postcode\":\"1017 GT\",\"region\":\"Noord-Holland\"},\"name\":\"Lavinia Good Food\",\"related_places\":{},\"timezone\":\"Europe/Amsterdam\"},{\"fsq_id\":\"6159a3cf4176a85a4b324987\",\"categories\":[{\"id\":13034,\"name\":\"Café\",\"short_name\":\"Café\",\"plural_name\":\"Cafés\",\"icon\":{\"prefix\":\"https://ss3.4sqi.net/img/categories_v2/food/cafe_\",\"suffix\":\".png\"}}],\"chains\":[],\"closed_bucket\":\"VeryLikelyOpen\",\"distance\":185,\"geocodes\":{\"drop_off\":{\"latitude\":52.36536,\"longitude\":4.892661},\"main\":{\"latitude\":52.36544,\"longitude\":4.892672},\"roof\":{\"latitude\":52.36544,\"longitude\":4.892672}},\"link\":\"/v3/places/6159a3cf4176a85a4b324987\",\"location\":{\"address\":\"Herengracht 515\",\"country\":\"NL\",\"cross_street\":\"\",\"formatted_address\":\"Herengracht 515, 1017 BV Amsterdam\",\"locality\":\"Amsterdam\",\"postcode\":\"1017 BV\",\"region\":\"Noord-Holland\"},\"name\":\"Cafe Restaurant Kramer\",\"related_places\":{},\"timezone\":\"Europe/Amsterdam\"},{\"fsq_id\":\"4a2705ccf964a520e3881fe3\",\"categories\":[{\"id\":13001,\"name\":\"Bagel Shop\",\"short_name\":\"Bagels\",\"plural_name\":\"Bagel Shops\",\"icon\":{\"prefix\":\"https://ss3.4sqi.net/img/categories_v2/food/bagels_\",\"suffix\":\".png\"}},{\"id\":13034,\"name\":\"Café\",\"short_name\":\"Café\",\"plural_name\":\"Cafés\",\"icon\":{\"prefix\":\"https://ss3.4sqi.net/img/categories_v2/food/cafe_\",\"suffix\":\".png\"}},{\"id\":13039,\"name\":\"Deli\",\"short_name\":\"Deli\",\"plural_name\":\"Delis\",\"icon\":{\"prefix\":\"https://ss3.4sqi.net/img/categories_v2/food/deli_\",\"suffix\":\".png\"}}],\"chains\":[],\"closed_bucket\":\"VeryLikelyOpen\",\"distance\":186,\"geocodes\":{\"drop_off\":{\"latitude\":52.362463,\"longitude\":4.891875},\"main\":{\"latitude\":52.362404,\"longitude\":4.892036},\"roof\":{\"latitude\":52.362404,\"longitude\":4.892036}},\"link\":\"/v3/places/4a2705ccf964a520e3881fe3\",\"location\":{\"address\":\"Vijzelstraat 137\",\"country\":\"NL\",\"cross_street\":\"\",\"formatted_address\":\"Vijzelstraat 137, 1017 HJ Amsterdam\",\"locality\":\"Amsterdam\",\"postcode\":\"1017 HJ\",\"region\":\"Noord-Holland\"},\"name\":\"Village Bagels\",\"related_places\":{},\"timezone\":\"Europe/Amsterdam\"},{\"fsq_id\":\"4e6b92a86365c2609eb518f0\",\"categories\":[{\"id\":13030,\"name\":\"Buffet\",\"short_name\":\"Buffet\",\"plural_name\":\"Buffets\",\"icon\":{\"prefix\":\"https://ss3.4sqi.net/img/categories_v2/food/default_\",\"suffix\":\".png\"}},{\"id\":13034,\"name\":\"Café\",\"short_name\":\"Café\",\"plural_name\":\"Cafés\",\"icon\":{\"prefix\":\"https://ss3.4sqi.net/img/categories_v2/food/cafe_\",\"suffix\":\".png\"}}],\"chains\":[],\"closed_bucket\":\"VeryLikelyOpen\",\"distance\":243,\"geocodes\":{\"drop_off\":{\"latitude\":52.362384,\"longitude\":4.888972},\"main\":{\"latitude\":52.362285,\"longitude\":4.888958},\"roof\":{\"latitude\":52.362285,\"longitude\":4.888958}},\"link\":\"/v3/places/4e6b92a86365c2609eb518f0\",\"location\":{\"address\":\"Prinsengracht 598\",\"country\":\"NL\",\"formatted_address\":\"Prinsengracht 598, 1017 KS Amsterdam\",\"locality\":\"Amsterdam\",\"postcode\":\"1017 KS\",\"region\":\"Noord-Holland\"},\"name\":\"BUFFET van Odette\",\"related_places\":{},\"timezone\":\"Europe/Amsterdam\"},{\"fsq_id\":\"5b81d9b1018cbb0039836da4\",\"categories\":[{\"id\":13003,\"name\":\"Bar\",\"short_name\":\"Bar\",\"plural_name\":\"Bars\",\"icon\":{\"prefix\":\"https://ss3.4sqi.net/img/categories_v2/nightlife/pub_\",\"suffix\":\".png\"}},{\"id\":13065,\"name\":\"Restaurant\",\"short_name\":\"Restaurant\",\"plural_name\":\"Restaurants\",\"icon\":{\"prefix\":\"https://ss3.4sqi.net/img/categories_v2/food/default_\",\"suffix\":\".png\"}}],\"chains\":[],\"closed_bucket\":\"VeryLikelyOpen\",\"distance\":334,\"geocodes\":{\"drop_off\":{\"latitude\":52.361065,\"longitude\":4.891361},\"main\":{\"latitude\":52.360991,\"longitude\":4.891571},\"roof\":{\"latitude\":52.360991,\"longitude\":4.891571}},\"link\":\"/v3/places/5b81d9b1018cbb0039836da4\",\"location\":{\"address\":\"Vijzelgracht 35\",\"country\":\"NL\",\"cross_street\":\"\",\"formatted_address\":\"Vijzelgracht 35, 1017 HN Amsterdam\",\"locality\":\"Amsterdam\",\"postcode\":\"1017 HN\",\"region\":\"Noord-Holland\"},\"name\":\"Bar Dó Amsterdam\",\"related_places\":{},\"timezone\":\"Europe/Amsterdam\"},{\"fsq_id\":\"550c3cee498e3f22bf1c9d7f\",\"categories\":[{\"id\":13003,\"name\":\"Bar\",\"short_name\":\"Bar\",\"plural_name\":\"Bars\",\"icon\":{\"prefix\":\"https://ss3.4sqi.net/img/categories_v2/nightlife/pub_\",\"suffix\":\".png\"}},{\"id\":13034,\"name\":\"Café\",\"short_name\":\"Café\",\"plural_name\":\"Cafés\",\"icon\":{\"prefix\":\"https://ss3.4sqi.net/img/categories_v2/food/cafe_\",\"suffix\":\".png\"}},{\"id\":13035,\"name\":\"Coffee Shop\",\"short_name\":\"Coffee Shop\",\"plural_name\":\"Coffee Shops\",\"icon\":{\"prefix\":\"https://ss3.4sqi.net/img/categories_v2/food/coffeeshop_\",\"suffix\":\".png\"}}],\"chains\":[],\"closed_bucket\":\"VeryLikelyOpen\",\"distance\":357,\"geocodes\":{\"drop_off\":{\"latitude\":52.361247,\"longitude\":4.888747},\"main\":{\"latitude\":52.361217,\"longitude\":4.888824},\"roof\":{\"latitude\":52.361217,\"longitude\":4.888824}},\"link\":\"/v3/places/550c3cee498e3f22bf1c9d7f\",\"location\":{\"address\":\"Weteringstraat 37\",\"country\":\"NL\",\"cross_street\":\"\",\"formatted_address\":\"Weteringstraat 37, 1017 SM Amsterdam\",\"locality\":\"Amsterdam\",\"postcode\":\"1017 SM\",\"region\":\"Noord-Holland\"},\"name\":\"Cafe De Wetering\",\"related_places\":{},\"timezone\":\"Europe/Amsterdam\"},{\"fsq_id\":\"5390600e498ea928667afb97\",\"categories\":[{\"id\":13003,\"name\":\"Bar\",\"short_name\":\"Bar\",\"plural_name\":\"Bars\",\"icon\":{\"prefix\":\"https://ss3.4sqi.net/img/categories_v2/nightlife/pub_\",\"suffix\":\".png\"}},{\"id\":13035,\"name\":\"Coffee Shop\",\"short_name\":\"Coffee Shop\",\"plural_name\":\"Coffee Shops\",\"icon\":{\"prefix\":\"https://ss3.4sqi.net/img/categories_v2/food/coffeeshop_\",\"suffix\":\".png\"}},{\"id\":13377,\"name\":\"Vegan and Vegetarian Restaurant\",\"short_name\":\"Vegan and Vegetarian Restaurant\",\"plural_name\":\"Vegan and Vegetarian Restaurants\",\"icon\":{\"prefix\":\"https://ss3.4sqi.net/img/categories_v2/food/vegetarian_\",\"suffix\":\".png\"}}],\"chains\":[],\"closed_bucket\":\"VeryLikelyOpen\",\"distance\":379,\"geocodes\":{\"drop_off\":{\"latitude\":52.361051,\"longitude\":4.888669},\"main\":{\"latitude\":52.361122,\"longitude\":4.888493},\"roof\":{\"latitude\":52.361122,\"longitude\":4.888493}},\"link\":\"/v3/places/5390600e498ea928667afb97\",\"location\":{\"address\":\"Weteringstraat 48\",\"country\":\"NL\",\"cross_street\":\"\",\"formatted_address\":\"Weteringstraat 48, 1017 SP Amsterdam\",\"locality\":\"Amsterdam\",\"postcode\":\"1017 SP\",\"region\":\"Noord-Holland\"},\"name\":\"Back to Black\",\"related_places\":{},\"timezone\":\"Europe/Amsterdam\"},{\"fsq_id\":\"504643e1e4b0a6a6519a5a42\",\"categories\":[{\"id\":13000,\"name\":\"Dining and Drinking\",\"short_name\":\"Dining and Drinking\",\"plural_name\":\"Dining and Drinking\",\"icon\":{\"prefix\":\"https://ss3.4sqi.net/img/categories_v2/food/default_\",\"suffix\":\".png\"}}],\"chains\":[],\"closed_bucket\":\"VeryLikelyOpen\",\"distance\":378,\"geocodes\":{\"drop_off\":{\"latitude\":52.367301,\"longitude\":4.89016},\"main\":{\"latitude\":52.367398,\"longitude\":4.890174},\"roof\":{\"latitude\":52.367398,\"longitude\":4.890174}},\"link\":\"/v3/places/504643e1e4b0a6a6519a5a42\",\"location\":{\"address\":\"Singel 441\",\"country\":\"NL\",\"formatted_address\":\"Singel 441, 1012 WP Amsterdam\",\"locality\":\"Amsterdam\",\"postcode\":\"1012 WP\",\"region\":\"Noord-Holland\"},\"name\":\"Toastable\",\"related_places\":{},\"timezone\":\"Europe/Amsterdam\"},{\"fsq_id\":\"4fbe131de4b0291b656dab18\",\"categories\":[{\"id\":13034,\"name\":\"Café\",\"short_name\":\"Café\",\"plural_name\":\"Cafés\",\"icon\":{\"prefix\":\"https://ss3.4sqi.net/img/categories_v2/food/cafe_\",\"suffix\":\".png\"}},{\"id\":13036,\"name\":\"Tea Room\",\"short_name\":\"Tea Room\",\"plural_name\":\"Tea Rooms\",\"icon\":{\"prefix\":\"https://ss3.4sqi.net/img/categories_v2/food/tearoom_\",\"suffix\":\".png\"}},{\"id\":13065,\"name\":\"Restaurant\",\"short_name\":\"Restaurant\",\"plural_name\":\"Restaurants\",\"icon\":{\"prefix\":\"https://ss3.4sqi.net/img/categories_v2/food/default_\",\"suffix\":\".png\"}}],\"chains\":[],\"closed_bucket\":\"VeryLikelyOpen\",\"distance\":376,\"geocodes\":{\"drop_off\":{\"latitude\":52.365959,\"longitude\":4.886887},\"main\":{\"latitude\":52.366058,\"longitude\":4.886943},\"roof\":{\"latitude\":52.366058,\"longitude\":4.886943}},\"link\":\"/v3/places/4fbe131de4b0291b656dab18\",\"location\":{\"address\":\"Keizersgracht 465\",\"address_extended\":\"Leidsestraat\",\"country\":\"NL\",\"cross_street\":\"Leidsestraat\",\"formatted_address\":\"Keizersgracht 465 (Leidsestraat), 1017 DK Amsterdam\",\"locality\":\"Amsterdam\",\"postcode\":\"1017 DK\",\"region\":\"Noord-Holland\"},\"name\":\"Greenwoods Keizersgracht\",\"related_places\":{},\"timezone\":\"Europe/Amsterdam\"},{\"fsq_id\":\"4a2705b1f964a5207b881fe3\",\"categories\":[{\"id\":13016,\"name\":\"Lounge\",\"short_name\":\"Lounge\",\"plural_name\":\"Lounges\",\"icon\":{\"prefix\":\"https://ss3.4sqi.net/img/categories_v2/nightlife/default_\",\"suffix\":\".png\"}},{\"id\":13034,\"name\":\"Café\",\"short_name\":\"Café\",\"plural_name\":\"Cafés\",\"icon\":{\"prefix\":\"https://ss3.4sqi.net/img/categories_v2/food/cafe_\",\"suffix\":\".png\"}},{\"id\":13035,\"name\":\"Coffee Shop\",\"short_name\":\"Coffee Shop\",\"plural_name\":\"Coffee Shops\",\"icon\":{\"prefix\":\"https://ss3.4sqi.net/img/categories_v2/food/coffeeshop_\",\"suffix\":\".png\"}}],\"chains\":[],\"closed_bucket\":\"LikelyOpen\",\"distance\":323,\"geocodes\":{\"drop_off\":{\"latitude\":52.363972,\"longitude\":4.896125},\"main\":{\"latitude\":52.363987,\"longitude\":4.896318},\"roof\":{\"latitude\":52.363987,\"longitude\":4.896318}},\"link\":\"/v3/places/4a2705b1f964a5207b881fe3\",\"location\":{\"address\":\"Reguliersgracht 27\",\"country\":\"NL\",\"cross_street\":\"\",\"formatted_address\":\"Reguliersgracht 27, 1017 LK Amsterdam\",\"locality\":\"Amsterdam\",\"postcode\":\"1017 LK\",\"region\":\"Noord-Holland\"},\"name\":\"Barney's Lounge BV\",\"related_places\":{},\"timezone\":\"Europe/Amsterdam\"},{\"fsq_id\":\"4b37945ef964a5207c4225e3\",\"categories\":[{\"id\":13034,\"name\":\"Café\",\"short_name\":\"Café\",\"plural_name\":\"Cafés\",\"icon\":{\"prefix\":\"https://ss3.4sqi.net/img/categories_v2/food/cafe_\",\"suffix\":\".png\"}},{\"id\":13065,\"name\":\"Restaurant\",\"short_name\":\"Restaurant\",\"plural_name\":\"Restaurants\",\"icon\":{\"prefix\":\"https://ss3.4sqi.net/img/categories_v2/food/default_\",\"suffix\":\".png\"}}],\"chains\":[],\"closed_bucket\":\"VeryLikelyOpen\",\"distance\":378,\"geocodes\":{\"main\":{\"latitude\":52.367376,\"longitude\":4.891479},\"roof\":{\"latitude\":52.367376,\"longitude\":4.891479}},\"link\":\"/v3/places/4b37945ef964a5207c4225e3\",\"location\":{\"address\":\"Singel 457\",\"country\":\"NL\",\"formatted_address\":\"Singel 457, 1012 WP Amsterdam\",\"locality\":\"Amsterdam\",\"postcode\":\"1012 WP\",\"region\":\"Noord-Holland\"},\"name\":\"Blue\",\"related_places\":{\"parent\":{\"fsq_id\":\"4a27000ff964a52011821fe3\",\"categories\":[{\"id\":17000,\"name\":\"Retail\",\"short_name\":\"Retail\",\"plural_name\":\"Retail\",\"icon\":{\"prefix\":\"https://ss3.4sqi.net/img/categories_v2/shops/default_\",\"suffix\":\".png\"}}],\"name\":\"Kalvertoren\"}},\"timezone\":\"Europe/Amsterdam\"},{\"fsq_id\":\"4a270034f964a520a7821fe3\",\"categories\":[{\"id\":13003,\"name\":\"Bar\",\"short_name\":\"Bar\",\"plural_name\":\"Bars\",\"icon\":{\"prefix\":\"https://ss3.4sqi.net/img/categories_v2/nightlife/pub_\",\"suffix\":\".png\"}},{\"id\":13034,\"name\":\"Café\",\"short_name\":\"Café\",\"plural_name\":\"Cafés\",\"icon\":{\"prefix\":\"https://ss3.4sqi.net/img/categories_v2/food/cafe_\",\"suffix\":\".png\"}},{\"id\":13065,\"name\":\"Restaurant\",\"short_name\":\"Restaurant\",\"plural_name\":\"Restaurants\",\"icon\":{\"prefix\":\"https://ss3.4sqi.net/img/categories_v2/food/default_\",\"suffix\":\".png\"}}],\"chains\":[],\"closed_bucket\":\"VeryLikelyOpen\",\"distance\":384,\"geocodes\":{\"drop_off\":{\"latitude\":52.361798,\"longitude\":4.887232},\"main\":{\"latitude\":52.361712,\"longitude\":4.887323},\"roof\":{\"latitude\":52.361712,\"longitude\":4.887323}},\"link\":\"/v3/places/4a270034f964a520a7821fe3\",\"location\":{\"address\":\"Spiegelgracht 27\",\"country\":\"NL\",\"formatted_address\":\"Spiegelgracht 27, 1017 JP Amsterdam\",\"locality\":\"Amsterdam\",\"postcode\":\"1017 JP\",\"region\":\"Noord-Holland\"},\"name\":\"Hans en Grietje Café\",\"related_places\":{},\"timezone\":\"Europe/Amsterdam\"},{\"fsq_id\":\"50796d50e4b0e942473c090d\",\"categories\":[{\"id\":13035,\"name\":\"Coffee Shop\",\"short_name\":\"Coffee Shop\",\"plural_name\":\"Coffee Shops\",\"icon\":{\"prefix\":\"https://ss3.4sqi.net/img/categories_v2/food/coffeeshop_\",\"suffix\":\".png\"}},{\"id\":13065,\"name\":\"Restaurant\",\"short_name\":\"Restaurant\",\"plural_name\":\"Restaurants\",\"icon\":{\"prefix\":\"https://ss3.4sqi.net/img/categories_v2/food/default_\",\"suffix\":\".png\"}}],\"chains\":[],\"closed_bucket\":\"LikelyOpen\",\"distance\":479,\"geocodes\":{\"drop_off\":{\"latitude\":52.36354,\"longitude\":4.898418},\"main\":{\"latitude\":52.363448,\"longitude\":4.898228},\"roof\":{\"latitude\":52.363448,\"longitude\":4.898228}},\"link\":\"/v3/places/50796d50e4b0e942473c090d\",\"location\":{\"address\":\"Utrechtsestraat 52-60\",\"country\":\"NL\",\"cross_street\":\"\",\"formatted_address\":\"Utrechtsestraat 52-60, 1017 VP Amsterdam\",\"locality\":\"Amsterdam\",\"postcode\":\"1017 VP\",\"region\":\"Noord-Holland\"},\"name\":\"Concerto\",\"related_places\":{\"parent\":{\"fsq_id\":\"4a742bfbf964a520bedd1fe3\",\"categories\":[{\"id\":17098,\"name\":\"Music Store\",\"short_name\":\"Music Store\",\"plural_name\":\"Music Stores\",\"icon\":{\"prefix\":\"https://ss3.4sqi.net/img/categories_v2/shops/music_instruments_\",\"suffix\":\".png\"}}],\"name\":\"Concerto BV\"}},\"timezone\":\"Europe/Amsterdam\"},{\"fsq_id\":\"6118fc077b94ce1bfd3cbda0\",\"categories\":[{\"id\":13041,\"name\":\"Creperie\",\"short_name\":\"Creperie\",\"plural_name\":\"Creperies\",\"icon\":{\"prefix\":\"https://ss3.4sqi.net/img/categories_v2/food/creperie_\",\"suffix\":\".png\"}}],\"chains\":[],\"closed_bucket\":\"VeryLikelyOpen\",\"distance\":495,\"geocodes\":{\"drop_off\":{\"latitude\":52.367046,\"longitude\":4.896814},\"main\":{\"latitude\":52.366954,\"longitude\":4.896818},\"roof\":{\"latitude\":52.366954,\"longitude\":4.896818}},\"link\":\"/v3/places/6118fc077b94ce1bfd3cbda0\",\"location\":{\"address\":\"Amstel 102A\",\"country\":\"NL\",\"cross_street\":\"\",\"formatted_address\":\"Amstel 102A, 1017 AD Amsterdam\",\"locality\":\"Amsterdam\",\"postcode\":\"1017 AD\",\"region\":\"Noord-Holland\"},\"name\":\"Blin Queen\",\"related_places\":{},\"timezone\":\"Europe/Amsterdam\"},{\"fsq_id\":\"4d4acc464a6d8eec720e342d\",\"categories\":[{\"id\":13002,\"name\":\"Bakery\",\"short_name\":\"Bakery\",\"plural_name\":\"Bakeries\",\"icon\":{\"prefix\":\"https://ss3.4sqi.net/img/categories_v2/food/bakery_\",\"suffix\":\".png\"}},{\"id\":13334,\"name\":\"Sandwich Spot\",\"short_name\":\"Sandwich Spot\",\"plural_name\":\"Sandwich Spots\",\"icon\":{\"prefix\":\"https://ss3.4sqi.net/img/categories_v2/food/deli_\",\"suffix\":\".png\"}}],\"chains\":[],\"closed_bucket\":\"VeryLikelyOpen\",\"distance\":489,\"geocodes\":{\"drop_off\":{\"latitude\":52.365225,\"longitude\":4.884514},\"main\":{\"latitude\":52.365337,\"longitude\":4.884588},\"roof\":{\"latitude\":52.365337,\"longitude\":4.884588}},\"link\":\"/v3/places/4d4acc464a6d8eec720e342d\",\"location\":{\"address\":\"Prinsengracht 705A\",\"country\":\"NL\",\"cross_street\":\"Leidsestraat\",\"formatted_address\":\"Prinsengracht 705A (Leidsestraat), 1017 JV Amsterdam\",\"locality\":\"Amsterdam\",\"postcode\":\"1017 JV\",\"region\":\"Noord-Holland\"},\"name\":\"Cora Delicatessen & Broodjes\",\"related_places\":{},\"timezone\":\"Europe/Amsterdam\"},{\"fsq_id\":\"4a270019f964a5202c821fe3\",\"categories\":[{\"id\":13003,\"name\":\"Bar\",\"short_name\":\"Bar\",\"plural_name\":\"Bars\",\"icon\":{\"prefix\":\"https://ss3.4sqi.net/img/categories_v2/nightlife/pub_\",\"suffix\":\".png\"}},{\"id\":13034,\"name\":\"Café\",\"short_name\":\"Café\",\"plural_name\":\"Cafés\",\"icon\":{\"prefix\":\"https://ss3.4sqi.net/img/categories_v2/food/cafe_\",\"suffix\":\".png\"}},{\"id\":13065,\"name\":\"Restaurant\",\"short_name\":\"Restaurant\",\"plural_name\":\"Restaurants\",\"icon\":{\"prefix\":\"https://ss3.4sqi.net/img/categories_v2/food/default_\",\"suffix\":\".png\"}}],\"chains\":[],\"closed_bucket\":\"VeryLikelyOpen\",\"distance\":407,\"geocodes\":{\"drop_off\":{\"latitude\":52.362061,\"longitude\":4.886288},\"main\":{\"latitude\":52.362231,\"longitude\":4.886368},\"roof\":{\"latitude\":52.362231,\"longitude\":4.886368}},\"link\":\"/v3/places/4a270019f964a5202c821fe3\",\"location\":{\"address\":\"Lijnbaansgracht 277\",\"country\":\"NL\",\"formatted_address\":\"Lijnbaansgracht 277, 1017 RL Amsterdam\",\"locality\":\"Amsterdam\",\"postcode\":\"1017 RL\",\"region\":\"Noord-Holland\"},\"name\":\"Spiegel Lunchcafé De\",\"related_places\":{},\"timezone\":\"Europe/Amsterdam\"},{\"fsq_id\":\"4a26ff58f964a5202a7f1fe3\",\"categories\":[{\"id\":13003,\"name\":\"Bar\",\"short_name\":\"Bar\",\"plural_name\":\"Bars\",\"icon\":{\"prefix\":\"https://ss3.4sqi.net/img/categories_v2/nightlife/pub_\",\"suffix\":\".png\"}},{\"id\":13034,\"name\":\"Café\",\"short_name\":\"Café\",\"plural_name\":\"Cafés\",\"icon\":{\"prefix\":\"https://ss3.4sqi.net/img/categories_v2/food/cafe_\",\"suffix\":\".png\"}},{\"id\":13065,\"name\":\"Restaurant\",\"short_name\":\"Restaurant\",\"plural_name\":\"Restaurants\",\"icon\":{\"prefix\":\"https://ss3.4sqi.net/img/categories_v2/food/default_\",\"suffix\":\".png\"}}],\"chains\":[],\"closed_bucket\":\"VeryLikelyOpen\",\"distance\":525,\"geocodes\":{\"drop_off\":{\"latitude\":52.368182,\"longitude\":4.895477},\"main\":{\"latitude\":52.367934,\"longitude\":4.895569},\"roof\":{\"latitude\":52.367934,\"longitude\":4.895569}},\"link\":\"/v3/places/4a26ff58f964a5202a7f1fe3\",\"location\":{\"address\":\"Nieuwe Doelenstraat 20 22\",\"country\":\"NL\",\"formatted_address\":\"Nieuwe Doelenstraat 20 22, 1012 CP Amsterdam\",\"locality\":\"Amsterdam\",\"postcode\":\"1012 CP\",\"region\":\"Noord-Holland\"},\"name\":\"Café De Jaren\",\"related_places\":{},\"timezone\":\"Europe/Amsterdam\"},{\"fsq_id\":\"4a27005df964a52038831fe3\",\"categories\":[{\"id\":13007,\"name\":\"Beer Garden\",\"short_name\":\"Beer Garden\",\"plural_name\":\"Beer Gardens\",\"icon\":{\"prefix\":\"https://ss3.4sqi.net/img/categories_v2/nightlife/beergarden_\",\"suffix\":\".png\"}},{\"id\":13034,\"name\":\"Café\",\"short_name\":\"Café\",\"plural_name\":\"Cafés\",\"icon\":{\"prefix\":\"https://ss3.4sqi.net/img/categories_v2/food/cafe_\",\"suffix\":\".png\"}}],\"chains\":[],\"closed_bucket\":\"VeryLikelyOpen\",\"distance\":521,\"geocodes\":{\"drop_off\":{\"latitude\":52.368382,\"longitude\":4.888917},\"main\":{\"latitude\":52.368504,\"longitude\":4.888749},\"roof\":{\"latitude\":52.368504,\"longitude\":4.888749}},\"link\":\"/v3/places/4a27005df964a52038831fe3\",\"location\":{\"address\":\"Spui 30\",\"country\":\"NL\",\"formatted_address\":\"Spui 30, 1012 XA Amsterdam\",\"locality\":\"Amsterdam\",\"postcode\":\"1012 XA\",\"region\":\"Noord-Holland\"},\"name\":\"De Brabantse Aap\",\"related_places\":{},\"timezone\":\"Europe/Amsterdam\"},{\"fsq_id\":\"4a2bbd19f964a520db961fe3\",\"categories\":[{\"id\":13065,\"name\":\"Restaurant\",\"short_name\":\"Restaurant\",\"plural_name\":\"Restaurants\",\"icon\":{\"prefix\":\"https://ss3.4sqi.net/img/categories_v2/food/default_\",\"suffix\":\".png\"}}],\"chains\":[],\"closed_bucket\":\"VeryLikelyOpen\",\"distance\":576,\"geocodes\":{\"drop_off\":{\"latitude\":52.369231,\"longitude\":4.891613},\"main\":{\"latitude\":52.369193,\"longitude\":4.891612},\"roof\":{\"latitude\":52.369193,\"longitude\":4.891612}},\"link\":\"/v3/places/4a2bbd19f964a520db961fe3\",\"location\":{\"address\":\"Taksteeg\",\"address_extended\":\"7\",\"country\":\"NL\",\"cross_street\":\"Kalverstraat\",\"formatted_address\":\"Taksteeg (Kalverstraat), 1012 PB Amsterdam\",\"locality\":\"Amsterdam\",\"postcode\":\"1012 PB\",\"region\":\"Noord-Holland\"},\"name\":\"Gartine\",\"related_places\":{},\"timezone\":\"Europe/Amsterdam\"},{\"fsq_id\":\"4bc0a1ef4cdfc9b618219321\",\"categories\":[{\"id\":13018,\"name\":\"Pub\",\"short_name\":\"Pub\",\"plural_name\":\"Pubs\",\"icon\":{\"prefix\":\"https://ss3.4sqi.net/img/categories_v2/nightlife/pub_\",\"suffix\":\".png\"}},{\"id\":13034,\"name\":\"Café\",\"short_name\":\"Café\",\"plural_name\":\"Cafés\",\"icon\":{\"prefix\":\"https://ss3.4sqi.net/img/categories_v2/food/cafe_\",\"suffix\":\".png\"}}],\"chains\":[],\"closed_bucket\":\"LikelyOpen\",\"distance\":579,\"geocodes\":{\"drop_off\":{\"latitude\":52.369237,\"longitude\":4.890908},\"main\":{\"latitude\":52.369198,\"longitude\":4.89091},\"roof\":{\"latitude\":52.369198,\"longitude\":4.89091}},\"link\":\"/v3/places/4bc0a1ef4cdfc9b618219321\",\"location\":{\"address\":\"Rozenboomsteeg 4\",\"country\":\"NL\",\"cross_street\":\"Kalverstraat\",\"formatted_address\":\"Rozenboomsteeg 4 (Kalverstraat), 1012 PR Amsterdam\",\"locality\":\"Amsterdam\",\"postcode\":\"1012 PR\",\"region\":\"Noord-Holland\"},\"name\":\"De Dokter\",\"related_places\":{},\"timezone\":\"Europe/Amsterdam\"}],\"context\":{\"geo_bounds\":{\"circle\":{\"center\":{\"latitude\":52.364,\"longitude\":4.8913},\"radius\":1000}}}}\n"
     ]
    }
   ],
   "source": [
    "import requests\n",
    "\n",
    "url = \"https://api.foursquare.com/v3/places/search?query=coffee&radius=1000&limit=20\"\n",
    "\n",
    "headers = {\n",
    "    \"Accept\": \"application/json\",\n",
    "    \"Authorization\": token\n",
    "}\n",
    "\n",
    "response = requests.get(url, headers=headers)\n",
    "\n",
    "print(response.status_code)\n",
    "print(response.text)\n",
    "\n"
   ]
  },
  {
   "cell_type": "markdown",
   "id": "60a54335",
   "metadata": {},
   "source": [
    "⚠️ DO NOT push your token"
   ]
  }
 ],
 "metadata": {
  "kernelspec": {
   "display_name": "Python 3",
   "language": "python",
   "name": "python3"
  },
  "language_info": {
   "codemirror_mode": {
    "name": "ipython",
    "version": 3
   },
   "file_extension": ".py",
   "mimetype": "text/x-python",
   "name": "python",
   "nbconvert_exporter": "python",
   "pygments_lexer": "ipython3",
   "version": "3.13.3"
  },
  "toc": {
   "base_numbering": 1,
   "nav_menu": {},
   "number_sections": true,
   "sideBar": true,
   "skip_h1_title": false,
   "title_cell": "Table of Contents",
   "title_sidebar": "Contents",
   "toc_cell": false,
   "toc_position": {},
   "toc_section_display": true,
   "toc_window_display": true
  }
 },
 "nbformat": 4,
 "nbformat_minor": 5
}
